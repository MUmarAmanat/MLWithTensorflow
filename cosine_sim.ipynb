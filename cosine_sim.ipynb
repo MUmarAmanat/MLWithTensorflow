{
  "nbformat": 4,
  "nbformat_minor": 0,
  "metadata": {
    "colab": {
      "name": "cosine_sim.ipynb",
      "version": "0.3.2",
      "views": {},
      "default_view": {},
      "provenance": [],
      "collapsed_sections": []
    },
    "kernelspec": {
      "name": "python3",
      "display_name": "Python 3"
    },
    "accelerator": "GPU"
  },
  "cells": [
    {
      "metadata": {
        "id": "Hjjm2Lqy1vCg",
        "colab_type": "code",
        "colab": {
          "autoexec": {
            "startup": false,
            "wait_interval": 0
          }
        }
      },
      "cell_type": "code",
      "source": [
        "import numpy as np\n",
        "import os"
      ],
      "execution_count": 0,
      "outputs": []
    },
    {
      "metadata": {
        "id": "Wc6XzEcj2NZV",
        "colab_type": "code",
        "colab": {
          "autoexec": {
            "startup": false,
            "wait_interval": 0
          }
        }
      },
      "cell_type": "code",
      "source": [
        "size = 128, 128"
      ],
      "execution_count": 0,
      "outputs": []
    },
    {
      "metadata": {
        "id": "4DvC2r-G2pH6",
        "colab_type": "code",
        "colab": {
          "autoexec": {
            "startup": false,
            "wait_interval": 0
          }
        }
      },
      "cell_type": "code",
      "source": [
        "from google.colab import files\n",
        "files.upload()"
      ],
      "execution_count": 0,
      "outputs": []
    },
    {
      "metadata": {
        "id": "gzPAni875H-D",
        "colab_type": "code",
        "colab": {
          "autoexec": {
            "startup": false,
            "wait_interval": 0
          }
        }
      },
      "cell_type": "code",
      "source": [
        "from scipy.misc import imread\n",
        "import scipy\n",
        "path = '/content'\n",
        "romeo_image = imread(os.path.join(path, 'image1.jpg'))\n",
        "tariq_image = imread(os.path.join(path, 'image2.jpg'))\n"
      ],
      "execution_count": 0,
      "outputs": []
    },
    {
      "metadata": {
        "id": "IIH9I4xc5hyF",
        "colab_type": "code",
        "colab": {
          "autoexec": {
            "startup": false,
            "wait_interval": 0
          },
          "base_uri": "https://localhost:8080/",
          "height": 127
        },
        "outputId": "1bae6aca-2982-445f-e6b5-2929e25f210e",
        "executionInfo": {
          "status": "ok",
          "timestamp": 1525702527654,
          "user_tz": -300,
          "elapsed": 849,
          "user": {
            "displayName": "Umar Amanat",
            "photoUrl": "https://lh3.googleusercontent.com/a/default-user=s128",
            "userId": "114066902518027773984"
          }
        }
      },
      "cell_type": "code",
      "source": [
        "image1 = scipy.misc.imresize(image1, size)\n",
        "image1 = np.reshape(image1, 128*128*3)\n",
        "image1.shape"
      ],
      "execution_count": 56,
      "outputs": [
        {
          "output_type": "stream",
          "text": [
            "/usr/local/lib/python3.6/dist-packages/scipy/misc/pilutil.py:482: FutureWarning: Conversion of the second argument of issubdtype from `int` to `np.signedinteger` is deprecated. In future, it will be treated as `np.int64 == np.dtype(int).type`.\n",
            "  if issubdtype(ts, int):\n",
            "/usr/local/lib/python3.6/dist-packages/scipy/misc/pilutil.py:485: FutureWarning: Conversion of the second argument of issubdtype from `float` to `np.floating` is deprecated. In future, it will be treated as `np.float64 == np.dtype(float).type`.\n",
            "  elif issubdtype(type(size), float):\n"
          ],
          "name": "stderr"
        },
        {
          "output_type": "execute_result",
          "data": {
            "text/plain": [
              "(49152,)"
            ]
          },
          "metadata": {
            "tags": []
          },
          "execution_count": 56
        }
      ]
    },
    {
      "metadata": {
        "id": "T4DVmS_D6ES4",
        "colab_type": "code",
        "colab": {
          "autoexec": {
            "startup": false,
            "wait_interval": 0
          },
          "base_uri": "https://localhost:8080/",
          "height": 127
        },
        "outputId": "f780e81f-c15f-4b8b-dd4f-d7a5d0790a81",
        "executionInfo": {
          "status": "ok",
          "timestamp": 1525702537967,
          "user_tz": -300,
          "elapsed": 907,
          "user": {
            "displayName": "Umar Amanat",
            "photoUrl": "https://lh3.googleusercontent.com/a/default-user=s128",
            "userId": "114066902518027773984"
          }
        }
      },
      "cell_type": "code",
      "source": [
        "image2 = scipy.misc.imresize(image2, size)\n",
        "image2 = np.reshape(image2, 128*128*3)\n",
        "image2.shape"
      ],
      "execution_count": 58,
      "outputs": [
        {
          "output_type": "stream",
          "text": [
            "/usr/local/lib/python3.6/dist-packages/scipy/misc/pilutil.py:482: FutureWarning: Conversion of the second argument of issubdtype from `int` to `np.signedinteger` is deprecated. In future, it will be treated as `np.int64 == np.dtype(int).type`.\n",
            "  if issubdtype(ts, int):\n",
            "/usr/local/lib/python3.6/dist-packages/scipy/misc/pilutil.py:485: FutureWarning: Conversion of the second argument of issubdtype from `float` to `np.floating` is deprecated. In future, it will be treated as `np.float64 == np.dtype(float).type`.\n",
            "  elif issubdtype(type(size), float):\n"
          ],
          "name": "stderr"
        },
        {
          "output_type": "execute_result",
          "data": {
            "text/plain": [
              "(49152,)"
            ]
          },
          "metadata": {
            "tags": []
          },
          "execution_count": 58
        }
      ]
    },
    {
      "metadata": {
        "id": "G89hV3kW67Qb",
        "colab_type": "code",
        "colab": {
          "autoexec": {
            "startup": false,
            "wait_interval": 0
          }
        }
      },
      "cell_type": "code",
      "source": [
        "from scipy import spatial"
      ],
      "execution_count": 0,
      "outputs": []
    },
    {
      "metadata": {
        "id": "RBUTejo-7JDl",
        "colab_type": "code",
        "colab": {
          "autoexec": {
            "startup": false,
            "wait_interval": 0
          }
        }
      },
      "cell_type": "code",
      "source": [
        "result = 1 - spatial.distance.cosine(image1, image2)"
      ],
      "execution_count": 0,
      "outputs": []
    },
    {
      "metadata": {
        "id": "RDmuNZcC9XA4",
        "colab_type": "code",
        "colab": {
          "autoexec": {
            "startup": false,
            "wait_interval": 0
          },
          "base_uri": "https://localhost:8080/",
          "height": 35
        },
        "outputId": "7ebc11f3-e3cd-48b2-f8d9-2e72a16045c6",
        "executionInfo": {
          "status": "ok",
          "timestamp": 1525702557729,
          "user_tz": -300,
          "elapsed": 863,
          "user": {
            "displayName": "Umar Amanat",
            "photoUrl": "https://lh3.googleusercontent.com/a/default-user=s128",
            "userId": "114066902518027773984"
          }
        }
      },
      "cell_type": "code",
      "source": [
        "result"
      ],
      "execution_count": 61,
      "outputs": [
        {
          "output_type": "execute_result",
          "data": {
            "text/plain": [
              "3.625758948633262e-08"
            ]
          },
          "metadata": {
            "tags": []
          },
          "execution_count": 61
        }
      ]
    },
    {
      "metadata": {
        "id": "bvy5IAgU9XyB",
        "colab_type": "code",
        "colab": {
          "autoexec": {
            "startup": false,
            "wait_interval": 0
          }
        }
      },
      "cell_type": "code",
      "source": [
        "#angle in deg between to \n",
        "import math\n",
        "angle_in_rad = math.acos(result)\n",
        "angle_in_deg = math.degrees(angle_in_rad)"
      ],
      "execution_count": 0,
      "outputs": []
    },
    {
      "metadata": {
        "id": "MCnc24wv-hdH",
        "colab_type": "code",
        "colab": {
          "autoexec": {
            "startup": false,
            "wait_interval": 0
          },
          "base_uri": "https://localhost:8080/",
          "height": 35
        },
        "outputId": "fa5ee3d9-1fc6-4c94-9258-3dde79be20f7",
        "executionInfo": {
          "status": "ok",
          "timestamp": 1525703834204,
          "user_tz": -300,
          "elapsed": 864,
          "user": {
            "displayName": "Umar Amanat",
            "photoUrl": "https://lh3.googleusercontent.com/a/default-user=s128",
            "userId": "114066902518027773984"
          }
        }
      },
      "cell_type": "code",
      "source": [
        "if angle_in_deg in range(0, 45):\n",
        "  print('similar image')\n",
        "else:\n",
        "  print('not similar')"
      ],
      "execution_count": 75,
      "outputs": [
        {
          "output_type": "stream",
          "text": [
            "not similar\n"
          ],
          "name": "stdout"
        }
      ]
    },
    {
      "metadata": {
        "id": "4ivnIfbb_SWh",
        "colab_type": "code",
        "colab": {
          "autoexec": {
            "startup": false,
            "wait_interval": 0
          }
        }
      },
      "cell_type": "code",
      "source": [
        ""
      ],
      "execution_count": 0,
      "outputs": []
    }
  ]
}